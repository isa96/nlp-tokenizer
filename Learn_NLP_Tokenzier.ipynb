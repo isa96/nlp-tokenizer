{
  "nbformat": 4,
  "nbformat_minor": 0,
  "metadata": {
    "colab": {
      "provenance": [],
      "collapsed_sections": [
        "FeRMh0R3ccY-"
      ]
    },
    "kernelspec": {
      "name": "python3",
      "display_name": "Python 3"
    },
    "language_info": {
      "name": "python"
    }
  },
  "cells": [
    {
      "cell_type": "code",
      "execution_count": 1,
      "metadata": {
        "id": "UfgRDDgdMk1A"
      },
      "outputs": [],
      "source": [
        "from tensorflow.keras.preprocessing.text import Tokenizer\n",
        "from tensorflow.keras.preprocessing.sequence import pad_sequences"
      ]
    },
    {
      "cell_type": "code",
      "source": [
        "teks = [\"I like study\"]"
      ],
      "metadata": {
        "id": "-vzpvtqgaKrK"
      },
      "execution_count": 2,
      "outputs": []
    },
    {
      "cell_type": "markdown",
      "source": [
        "# If tokenizer has only 2 num of words"
      ],
      "metadata": {
        "id": "i8UW9YxWxIAe"
      }
    },
    {
      "cell_type": "code",
      "source": [
        "tokenizer_2_words = Tokenizer(num_words = 2)\n",
        "tokenizer_2_words.fit_on_texts(teks)\n",
        "words_sequence = tokenizer_2_words.texts_to_sequences(teks)\n"
      ],
      "metadata": {
        "id": "bMRqX-BSxGzf"
      },
      "execution_count": 14,
      "outputs": []
    },
    {
      "cell_type": "code",
      "source": [
        "print(tokenizer_2_words.word_index, '\\n')\n",
        "print(words_sequence)"
      ],
      "metadata": {
        "colab": {
          "base_uri": "https://localhost:8080/"
        },
        "id": "Xji2j1FlyTqd",
        "outputId": "03e0a8c9-9d6a-42dd-d77f-6e8199f6dcb2"
      },
      "execution_count": 15,
      "outputs": [
        {
          "output_type": "stream",
          "name": "stdout",
          "text": [
            "{'i': 1, 'like': 2, 'study': 3} \n",
            "\n",
            "[[1]]\n"
          ]
        }
      ]
    },
    {
      "cell_type": "code",
      "source": [
        "#without oov\n",
        "tokenizer = Tokenizer(num_words = 15)\n",
        "\n",
        "#with oov\n",
        "tokenizer_oov = Tokenizer(num_words=15, oov_token = '<oov>')"
      ],
      "metadata": {
        "id": "RWCxDXrJaKt1"
      },
      "execution_count": 3,
      "outputs": []
    },
    {
      "cell_type": "code",
      "source": [
        "tokenizer.fit_on_texts(teks)\n",
        "tokenizer_oov.fit_on_texts(teks)"
      ],
      "metadata": {
        "id": "h9RAOPZjbEsJ"
      },
      "execution_count": 4,
      "outputs": []
    },
    {
      "cell_type": "markdown",
      "source": [
        "# Tokenizer without OOV"
      ],
      "metadata": {
        "id": "FeRMh0R3ccY-"
      }
    },
    {
      "cell_type": "code",
      "source": [
        "sequences = tokenizer.texts_to_sequences(teks)\n",
        "new_sequences = tokenizer.texts_to_sequences(['I like sleep'])"
      ],
      "metadata": {
        "id": "QfJQefRXbSt4"
      },
      "execution_count": 5,
      "outputs": []
    },
    {
      "cell_type": "markdown",
      "source": [
        "Without OOV, unknown word will be remove"
      ],
      "metadata": {
        "id": "AOU3jWhXcSJE"
      }
    },
    {
      "cell_type": "code",
      "source": [
        "print(tokenizer.word_index, '\\n')\n",
        "\n",
        "print(sequences)\n",
        "\n",
        "print(\"============ new sequences ============\")\n",
        "\n",
        "print(new_sequences)\n"
      ],
      "metadata": {
        "colab": {
          "base_uri": "https://localhost:8080/"
        },
        "id": "4Y6TAFOMbX13",
        "outputId": "2b637888-9123-4a90-aa06-3fd7a934667c"
      },
      "execution_count": 6,
      "outputs": [
        {
          "output_type": "stream",
          "name": "stdout",
          "text": [
            "{'i': 1, 'like': 2, 'study': 3} \n",
            "\n",
            "[[1, 2, 3]]\n",
            "============ new sequences ============\n",
            "[[1, 2]]\n"
          ]
        }
      ]
    },
    {
      "cell_type": "markdown",
      "source": [
        "# Tokenizer with OOV"
      ],
      "metadata": {
        "id": "ykVfaf8mcbaX"
      }
    },
    {
      "cell_type": "code",
      "source": [
        "sequences = tokenizer_oov.texts_to_sequences(teks)\n",
        "new_sequences = tokenizer_oov.texts_to_sequences(['I like sleep'])"
      ],
      "metadata": {
        "id": "JDxFwnihclIf"
      },
      "execution_count": 7,
      "outputs": []
    },
    {
      "cell_type": "markdown",
      "source": [
        "All unknown word in sequence will get 1 value or word index"
      ],
      "metadata": {
        "id": "lr5oRm_pdC_P"
      }
    },
    {
      "cell_type": "code",
      "source": [
        "print(tokenizer_oov.word_index, '\\n')\n",
        "print(sequences,'\\n')\n",
        "print('================== new sequences ==================\\n')\n",
        "print(new_sequences)"
      ],
      "metadata": {
        "colab": {
          "base_uri": "https://localhost:8080/"
        },
        "id": "yhFWcxtLcxgA",
        "outputId": "0c5ac16c-09b6-484b-b741-f6241cdc0c12"
      },
      "execution_count": 8,
      "outputs": [
        {
          "output_type": "stream",
          "name": "stdout",
          "text": [
            "{'<oov>': 1, 'i': 2, 'like': 3, 'study': 4} \n",
            "\n",
            "[[2, 3, 4]] \n",
            "\n",
            "================== new sequences ==================\n",
            "\n",
            "[[2, 3, 1]]\n"
          ]
        }
      ]
    },
    {
      "cell_type": "markdown",
      "source": [
        "# Padding"
      ],
      "metadata": {
        "id": "mMhjL9yofrqc"
      }
    },
    {
      "cell_type": "code",
      "source": [
        "padding_maxlen2 = pad_sequences(sequences, \n",
        "                        padding = 'post',#post agar angka 0 di belakang atau padding setelah kalimat\n",
        "                        maxlen=2) #panjang maksimum sequence\n",
        "\n",
        "padding_maxlen5 = pad_sequences(sequences, \n",
        "                        padding = 'post',#post agar angka 0 di belakang atau padding setelah kalimat\n",
        "                        maxlen=5) #panjang maksimum sequence\n",
        "\n",
        " "
      ],
      "metadata": {
        "id": "s3uZLCL0ejzQ"
      },
      "execution_count": 9,
      "outputs": []
    },
    {
      "cell_type": "code",
      "source": [
        "print('padding maxlen2: {}\\n'.format(padding_maxlen2)) #mengambil 2 nilai terakhir\n",
        "print('paddin maxlen5: {}'.format(padding_maxlen5))"
      ],
      "metadata": {
        "colab": {
          "base_uri": "https://localhost:8080/"
        },
        "id": "5fPvNQCTe9Ym",
        "outputId": "9c12853e-a9a4-4766-b62a-dbefc3a18fb5"
      },
      "execution_count": 10,
      "outputs": [
        {
          "output_type": "stream",
          "name": "stdout",
          "text": [
            "padding maxlen2: [[3 4]]\n",
            "\n",
            "paddin maxlen5: [[2 3 4 0 0]]\n"
          ]
        }
      ]
    },
    {
      "cell_type": "markdown",
      "source": [
        "Padding with maxlen 2 will take only 2 words from behind, if want to take first 2 words use truncating = 'post'"
      ],
      "metadata": {
        "id": "tA1P3tNlgSVq"
      }
    },
    {
      "cell_type": "code",
      "source": [
        "padding_maxlen2_truncating = pad_sequences(sequences, \n",
        "                        padding = 'post',#post agar angka 0 di belakang atau padding setelah kalimat\n",
        "                        maxlen=2,#panjang maksimum sequence\n",
        "                        truncating = 'post') "
      ],
      "metadata": {
        "id": "YjnW9rVPgy4P"
      },
      "execution_count": 11,
      "outputs": []
    },
    {
      "cell_type": "code",
      "source": [
        "padding_maxlen2_truncating"
      ],
      "metadata": {
        "id": "ZyzsNnE2g7Qw",
        "outputId": "17375f01-01ef-43c9-b17a-fb5418795c7e",
        "colab": {
          "base_uri": "https://localhost:8080/"
        }
      },
      "execution_count": 12,
      "outputs": [
        {
          "output_type": "execute_result",
          "data": {
            "text/plain": [
              "array([[2, 3]], dtype=int32)"
            ]
          },
          "metadata": {},
          "execution_count": 12
        }
      ]
    }
  ]
}